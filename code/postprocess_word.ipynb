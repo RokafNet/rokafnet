{
 "cells": [
  {
   "cell_type": "code",
   "execution_count": null,
   "metadata": {},
   "outputs": [],
   "source": [
    "!pip install evaluate"
   ]
  },
  {
   "cell_type": "code",
   "execution_count": null,
   "metadata": {},
   "outputs": [],
   "source": [
    "import pandas as pd\n",
    "import numpy as np\n",
    "import os\n",
    "import random\n",
    "import evaluate"
   ]
  },
  {
   "cell_type": "code",
   "execution_count": null,
   "metadata": {},
   "outputs": [],
   "source": [
    "TRAIN_PATH = '/mnt/elice/dataset/train/'\n",
    "TEST_PATH = '/mnt/elice/dataset/test/'"
   ]
  },
  {
   "cell_type": "code",
   "execution_count": null,
   "metadata": {},
   "outputs": [],
   "source": [
    "df = pd.read_csv('preprocess/clean_df.csv')\n",
    "raw_submission = pd.read_csv('raw_submission.csv')"
   ]
  },
  {
   "cell_type": "code",
   "execution_count": null,
   "metadata": {},
   "outputs": [],
   "source": [
    "targets = list(set(df['text'].tolist())) #train label값\n",
    "preds = raw_submission['text']# predict 값\n",
    "threshold = 50 # text길이\n",
    "cer_threshold = 0.5\n",
    "metric = evaluate.load('cer')\n",
    "for i in range(len(preds)):\n",
    "    pred = preds[i]\n",
    "    if len(pred) >= threshold:\n",
    "        continue\n",
    "    min_cer = 1e8\n",
    "    index = -1\n",
    "    for j in range(len(targets)):\n",
    "        target = targets[j]\n",
    "        if len(target) >= threshold:\n",
    "            continue\n",
    "        cer = metric.compute(predictions=[pred], reference=[target])\n",
    "        if min_cer > cer:\n",
    "            min_cer = cer\n",
    "            index = j\n",
    "    if min_cer < cer_threshold:\n",
    "        preds[i] = targets[index]"
   ]
  },
  {
   "cell_type": "code",
   "execution_count": null,
   "metadata": {},
   "outputs": [],
   "source": [
    "submission = raw_submission\n",
    "submission['text'] = preds"
   ]
  },
  {
   "cell_type": "code",
   "execution_count": null,
   "metadata": {},
   "outputs": [],
   "source": [
    "submission.to_csv('submission.csv', index=False)"
   ]
  }
 ],
 "metadata": {
  "language_info": {
   "name": "python"
  }
 },
 "nbformat": 4,
 "nbformat_minor": 2
}
